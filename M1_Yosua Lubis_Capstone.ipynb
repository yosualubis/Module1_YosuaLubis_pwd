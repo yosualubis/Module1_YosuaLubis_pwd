{
 "cells": [
  {
   "cell_type": "code",
   "execution_count": 42,
   "metadata": {},
   "outputs": [
    {
     "name": "stdout",
     "output_type": "stream",
     "text": [
      "You entered: enter.login@gmail.com\n"
     ]
    }
   ],
   "source": [
    "# Start \n",
    "email = input(\"Enter your email: \")\n",
    "print(\"You entered:\", email)"
   ]
  },
  {
   "cell_type": "code",
   "execution_count": 18,
   "metadata": {},
   "outputs": [],
   "source": [
    "##### Data Student Supplier\n",
    "Menu = ['1. Report Data Supplier',\n",
    "        '2. Add Data Supplier',\n",
    "        '3. Change Data Supplier',\n",
    "        '4. Delete Data Supplier',\n",
    "        '5. Exit']"
   ]
  },
  {
   "cell_type": "code",
   "execution_count": 19,
   "metadata": {},
   "outputs": [],
   "source": [
    "supplier = {'Ref001': {'Code' : '4123', 'Name' : 'PT.Halcom', 'Type' : 'IT', 'City' : 'Batam', 'Status' : 'Fixterm'},\n",
    "'Ref002': {'Code' : '4124', 'Name' : 'PT.Wischo', 'Type' : 'Accessories', 'City' : 'Batam', 'Status' : 'Contract' },\n",
    "'Ref003': {'Code' : '4125', 'Name' : 'PT.Dutacom', 'Type' : 'Accessories', 'City' : 'Batam', 'Status' : 'Fixterm'},\n",
    "'Ref004': {'Code' : '4126', 'Name' : 'PT.Infocom', 'Type' : 'IT', 'City' : 'Jakarta', 'Status' : 'Contract' },\n",
    "'ref005': {'Code' : '4127', 'Name' : 'PT.Generate', 'Type' : 'IT', 'City' : 'Bandung', 'Status' : 'Fixterm'},\n",
    "'ref006': {'Code' : '4128', 'Name' : 'PT.Sunlicom', 'Type' : 'IT', 'City' : 'Medan', 'Status' : 'Fixterm'},\n",
    "'ref007': {'Code' : '4129', 'Name' : 'PT.Servicejaya', 'Type' : 'Accessories', 'City' : 'Bogor', 'Status' : 'Contract'},\n",
    "'ref008': {'Code' : '4130', 'Name' : 'PT.Petron', 'Type' : 'IT', 'City' : 'Surabaya', 'Status' : 'Contract'},\n",
    "'ref009': {'Code' : '4131', 'Name' : 'PT.Pilar', 'Type' : 'Accessories', 'City' : 'Bekasi', 'Status' : 'Fixterm'},\n",
    "'ref010': {'Code' : '4132', 'Name' : 'PT.Bisnet', 'Type' : 'IT', 'City' : 'Jakarta', 'Status' : 'Fixterm'}}\n",
    "\n"
   ]
  },
  {
   "cell_type": "code",
   "execution_count": 20,
   "metadata": {},
   "outputs": [],
   "source": [
    "# Read function\n",
    "def view_suppliers(supplier):\n",
    "    print(f\"{'RefID':<10} {'Code':<6} {'Name':<20} {'Type':<12} {'City':<10} {'Status':<10}\")\n",
    "    print(\"=\" * 65)\n",
    "    for ref, details in supplier.items():\n",
    "        print(f\"{ref:<10} {details['Code']:<6} {details['Name']:<20} {details['Type']:<12} {details['City']:<10} {details['Status']:<10}\")"
   ]
  },
  {
   "cell_type": "code",
   "execution_count": 21,
   "metadata": {},
   "outputs": [],
   "source": [
    "# Create function\n",
    "def add_data():\n",
    "    newref=input(\"ref\")\n",
    "    newCode=input(\"Code\")\n",
    "    newName=input(\"Name\")\n",
    "    newType=input(\"Type\")\n",
    "    newCity=input(\"City\")\n",
    "    newStatus=input(\"Status\")\n",
    "    supplier[newref]={'Code':newCode,'Name': newName,'Type':newType,'City':newCity,'Status':newStatus}"
   ]
  },
  {
   "cell_type": "code",
   "execution_count": 24,
   "metadata": {},
   "outputs": [],
   "source": [
    "def change_data():\n",
    "    ref = input(\"Enter reference ID: \").strip().lower()\n",
    "    supplier_lower = {key.lower(): value for key, value in supplier.items()}\n",
    "\n",
    "    if ref in supplier_lower:\n",
    "        print(\"\\nEnter values you want to change or leave blank:\")\n",
    "        newName = input(\"Name: \") or supplier_lower[ref]['Name']\n",
    "        newCity = input(\"City: \") or supplier_lower[ref]['City']\n",
    "        newStatus = input(\"Status: \") or supplier_lower[ref]['Status']\n",
    "\n",
    "        supplier[ref] = {\n",
    "            'Code': supplier_lower[ref]['Code'],  \n",
    "            'Name': newName,\n",
    "            'Type': supplier_lower[ref]['Type'],  \n",
    "            'City': newCity,\n",
    "            'Status': newStatus\n",
    "        }\n",
    "\n",
    "        print(\"\\nData updated successfully.\")\n",
    "    else:\n",
    "        print(\"Reference ID not found.\")\n"
   ]
  },
  {
   "cell_type": "code",
   "execution_count": 27,
   "metadata": {},
   "outputs": [],
   "source": [
    "def delete_data():\n",
    "    ref = input(\"Enter the reference ID to delete: \").strip()\n",
    "    lower_keys = {key.lower(): key for key in supplier}\n",
    "    \n",
    "    if ref.lower() in lower_keys:\n",
    "        actual_key = lower_keys[ref.lower()]\n",
    "        del supplier[actual_key]\n",
    "        print(f\"Supplier with reference '{actual_key}' has been deleted.\")\n",
    "    else:\n",
    "        print(\"Reference not found.\")"
   ]
  },
  {
   "cell_type": "code",
   "execution_count": 38,
   "metadata": {},
   "outputs": [
    {
     "name": "stdout",
     "output_type": "stream",
     "text": [
      "RefID      Code   Name                 Type         City       Status    \n",
      "=================================================================\n",
      "Ref001     4123   PT.Halcom            IT           Batam      Fixterm   \n",
      "Ref002     4124   PT.Wischo            Accessories  Batam      Contract  \n",
      "Ref003     4125   PT.Dutacom           Accessories  Batam      Fixterm   \n",
      "Ref004     4126   PT.Infocom           IT           Jakarta    Contract  \n",
      "ref005     4127   PT.Generate          IT           Bandung    Fixterm   \n",
      "ref006     4128   PT.Sunlicom          IT           Medan      Fixterm   \n",
      "ref007     4129   PT.Servicejaya       Accessories  Bogor      Contract  \n",
      "ref008     4130   PT.Petron            IT           Surabaya   Contract  \n",
      "ref009     4131   PT.Pilar             Accessories  Bekasi     Fixterm   \n",
      "ref010     4132   PT.Bisnet            IT           Jakarta    Fixterm   \n"
     ]
    }
   ],
   "source": [
    "def app():\n",
    "    opt = int(input(\"Please enter the menu number you'd like to access: \").strip())\n",
    "    if opt == 1: # read\n",
    "        view_suppliers(supplier)\n",
    "    elif opt == 2: # create\n",
    "        add_data()\n",
    "        view_suppliers(supplier)\n",
    "    elif opt == 3: # update\n",
    "        change_data()\n",
    "        view_suppliers(supplier)\n",
    "    elif opt == 4: #delete\n",
    "        delete_data()\n",
    "        view_suppliers(supplier)\n",
    "    elif opt == 5: # exit\n",
    "        print(\"\\tExit the the program.\")\n",
    "    else:\n",
    "        print(\"\\tInvalid option, Dear. Please choose a valid option from the menu.\")\n",
    "app()"
   ]
  },
  {
   "cell_type": "code",
   "execution_count": 47,
   "metadata": {},
   "outputs": [
    {
     "name": "stdout",
     "output_type": "stream",
     "text": [
      "1. Report Data Supplier\n",
      "2. Add Data Supplier\n",
      "3. Change Data Supplier\n",
      "4. Delete Data Supplier\n",
      "5. Exit\n",
      "\tExiting the program. Goodbye!\n"
     ]
    }
   ],
   "source": [
    "def app():\n",
    "    while True:\n",
    "        print(\"\\n\".join(Menu))\n",
    "        try:\n",
    "            opt = int(input(\"Please enter the menu number you'd like to access: \").strip())\n",
    "            if opt == 1:  # Read\n",
    "                view_suppliers(supplier)\n",
    "            elif opt == 2:  # Create\n",
    "                add_data()\n",
    "                view_suppliers(supplier)\n",
    "            elif opt == 3:  # Update\n",
    "                change_data()\n",
    "                view_suppliers(supplier)\n",
    "            elif opt == 4:  # Delete\n",
    "                delete_data()\n",
    "                view_suppliers(supplier)\n",
    "            elif opt == 5:  # Exit\n",
    "                print(\"\\tExiting the program. Goodbye!\")\n",
    "                break  # Exit the loop\n",
    "            else:\n",
    "                print(\"\\tInvalid input! Please enter a number.\")\n",
    "                continue\n",
    "        except ValueError:\n",
    "            print(\"\\tInvalid input! Please enter a number.\")\n",
    "            continue\n",
    "        \n",
    "app()"
   ]
  }
 ],
 "metadata": {
  "kernelspec": {
   "display_name": "Python 3",
   "language": "python",
   "name": "python3"
  },
  "language_info": {
   "codemirror_mode": {
    "name": "ipython",
    "version": 3
   },
   "file_extension": ".py",
   "mimetype": "text/x-python",
   "name": "python",
   "nbconvert_exporter": "python",
   "pygments_lexer": "ipython3",
   "version": "3.13.2"
  }
 },
 "nbformat": 4,
 "nbformat_minor": 2
}
